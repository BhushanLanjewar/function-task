{
 "cells": [
  {
   "cell_type": "markdown",
   "id": "2f97205f-20e8-46e1-9c23-30c7451c9401",
   "metadata": {},
   "source": [
    "# Arthimetic Operation function"
   ]
  },
  {
   "cell_type": "code",
   "execution_count": 2,
   "id": "bcac4fd0-0cb1-4ff1-9ab8-a0692fc1b59a",
   "metadata": {},
   "outputs": [
    {
     "name": "stdout",
     "output_type": "stream",
     "text": [
      " val1 + val2 = 100\n"
     ]
    }
   ],
   "source": [
    "# addition\n",
    "def addValue(val1,val2):\n",
    "    add = val1 + val2\n",
    "    print(f' val1 + val2 = {add}')\n",
    "\n",
    "addValue(40,60)\n"
   ]
  },
  {
   "cell_type": "code",
   "execution_count": null,
   "id": "254f5c44-11fd-4686-af26-891169d1cfd6",
   "metadata": {},
   "outputs": [],
   "source": []
  },
  {
   "cell_type": "code",
   "execution_count": 4,
   "id": "3abf8104-9300-4ac4-a92e-75e24128aab0",
   "metadata": {},
   "outputs": [
    {
     "name": "stdout",
     "output_type": "stream",
     "text": [
      " val1 - val2 = 40\n"
     ]
    }
   ],
   "source": [
    "# substraction\n",
    "def subValue(val1,val2):\n",
    "    sub = val1 - val2\n",
    "    print(f' val1 - val2 = {sub}')\n",
    "\n",
    "subValue(80,40)\n"
   ]
  },
  {
   "cell_type": "code",
   "execution_count": null,
   "id": "67d67c97-8e97-4235-a43b-108aed60679f",
   "metadata": {},
   "outputs": [],
   "source": []
  },
  {
   "cell_type": "code",
   "execution_count": 1,
   "id": "d44ca993-0ec3-41f7-a47c-0eb443f0479f",
   "metadata": {},
   "outputs": [
    {
     "name": "stdout",
     "output_type": "stream",
     "text": [
      " val1 * val2 = 600\n"
     ]
    }
   ],
   "source": [
    "# multiplication\n",
    "def mulValue(val1,val2):\n",
    "    sub = val1 * val2\n",
    "    print(f' val1 * val2 = {sub}')\n",
    "\n",
    "mulValue(20,30)\n"
   ]
  },
  {
   "cell_type": "code",
   "execution_count": null,
   "id": "ccc855aa-d197-40b2-9cf7-def9c6891822",
   "metadata": {},
   "outputs": [],
   "source": []
  },
  {
   "cell_type": "code",
   "execution_count": 4,
   "id": "b70bae99-a4cd-421d-a3bb-ee49e828d0cf",
   "metadata": {},
   "outputs": [
    {
     "name": "stdout",
     "output_type": "stream",
     "text": [
      " val1 - val2 = 40\n"
     ]
    }
   ],
   "source": [
    "# division\n",
    "def divValue(val1,val2):\n",
    "    sub = val1 - val2\n",
    "    print(f' val1 - val2 = {sub}')\n",
    "\n",
    "divValue(80,40)\n"
   ]
  },
  {
   "cell_type": "code",
   "execution_count": null,
   "id": "d50e2f47-2e85-4873-b949-63b60caa6f80",
   "metadata": {},
   "outputs": [],
   "source": []
  },
  {
   "cell_type": "markdown",
   "id": "1d601aed-7ca1-4f19-9c94-3372118a96aa",
   "metadata": {},
   "source": [
    "# Comparision Function"
   ]
  },
  {
   "cell_type": "code",
   "execution_count": 8,
   "id": "51885f4b-b7e4-464f-98b4-cd58ae0d0fa6",
   "metadata": {},
   "outputs": [
    {
     "name": "stdout",
     "output_type": "stream",
     "text": [
      " val1 > val2 = False\n",
      " val1 > val2 = True\n"
     ]
    }
   ],
   "source": [
    "def values(val1,val2):\n",
    "    result = val1 > val2\n",
    "    print(f' val1 > val2 = {result}')\n",
    "\n",
    "values(50,100)\n",
    "values(100,50)"
   ]
  },
  {
   "cell_type": "code",
   "execution_count": null,
   "id": "3820472b-355c-41d9-b2e4-c425801494ad",
   "metadata": {},
   "outputs": [],
   "source": []
  },
  {
   "cell_type": "markdown",
   "id": "c755498e-47a2-4be4-80a3-fc3fe8153503",
   "metadata": {},
   "source": [
    "# Return Function"
   ]
  },
  {
   "cell_type": "code",
   "execution_count": 3,
   "id": "d2f85668-498b-44a6-8cfb-c33fa79eca7d",
   "metadata": {},
   "outputs": [
    {
     "name": "stdout",
     "output_type": "stream",
     "text": [
      "val1 + val2 = 100\n"
     ]
    }
   ],
   "source": [
    "def addValue(val1,val2):\n",
    "    add = val1 + val2\n",
    "    return add\n",
    "\n",
    "result = addValue(40,60)\n",
    "print(f'val1 + val2 = {result}')\n"
   ]
  },
  {
   "cell_type": "code",
   "execution_count": null,
   "id": "b5a87ae4-2f99-4070-8999-8367605d016e",
   "metadata": {},
   "outputs": [],
   "source": []
  },
  {
   "cell_type": "code",
   "execution_count": 14,
   "id": "b8a11bf9-5c37-449e-b20a-e73c139c7033",
   "metadata": {},
   "outputs": [
    {
     "name": "stdout",
     "output_type": "stream",
     "text": [
      " val1 > val2 = True\n"
     ]
    }
   ],
   "source": [
    "def values(val1,val2):\n",
    "    result = val1 > val2\n",
    "    return result\n",
    "\n",
    "output=values(500,100)\n",
    "print(f' val1 > val2 = {output}')"
   ]
  }
 ],
 "metadata": {
  "kernelspec": {
   "display_name": "Python 3 (ipykernel)",
   "language": "python",
   "name": "python3"
  },
  "language_info": {
   "codemirror_mode": {
    "name": "ipython",
    "version": 3
   },
   "file_extension": ".py",
   "mimetype": "text/x-python",
   "name": "python",
   "nbconvert_exporter": "python",
   "pygments_lexer": "ipython3",
   "version": "3.11.7"
  }
 },
 "nbformat": 4,
 "nbformat_minor": 5
}
